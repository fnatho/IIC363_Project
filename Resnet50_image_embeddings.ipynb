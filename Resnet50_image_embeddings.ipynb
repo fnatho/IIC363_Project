{
  "cells": [
    {
      "cell_type": "code",
      "source": [
        "! pip install -U --no-cache-dir gdown --pre"
      ],
      "metadata": {
        "id": "sYy4bpxg6c9H",
        "outputId": "81b8b8ad-cb90-49d8-d119-19afb108ac44",
        "colab": {
          "base_uri": "https://localhost:8080/"
        }
      },
      "execution_count": null,
      "outputs": [
        {
          "output_type": "stream",
          "name": "stdout",
          "text": [
            "Looking in indexes: https://pypi.org/simple, https://us-python.pkg.dev/colab-wheels/public/simple/\n",
            "Requirement already satisfied: gdown in /usr/local/lib/python3.8/dist-packages (4.4.0)\n",
            "Collecting gdown\n",
            "  Downloading gdown-4.5.4-py3-none-any.whl (14 kB)\n",
            "Requirement already satisfied: tqdm in /usr/local/lib/python3.8/dist-packages (from gdown) (4.64.1)\n",
            "Requirement already satisfied: requests[socks] in /usr/local/lib/python3.8/dist-packages (from gdown) (2.23.0)\n",
            "Requirement already satisfied: filelock in /usr/local/lib/python3.8/dist-packages (from gdown) (3.8.0)\n",
            "Requirement already satisfied: beautifulsoup4 in /usr/local/lib/python3.8/dist-packages (from gdown) (4.6.3)\n",
            "Requirement already satisfied: six in /usr/local/lib/python3.8/dist-packages (from gdown) (1.15.0)\n",
            "Requirement already satisfied: urllib3!=1.25.0,!=1.25.1,<1.26,>=1.21.1 in /usr/local/lib/python3.8/dist-packages (from requests[socks]->gdown) (1.24.3)\n",
            "Requirement already satisfied: chardet<4,>=3.0.2 in /usr/local/lib/python3.8/dist-packages (from requests[socks]->gdown) (3.0.4)\n",
            "Requirement already satisfied: idna<3,>=2.5 in /usr/local/lib/python3.8/dist-packages (from requests[socks]->gdown) (2.10)\n",
            "Requirement already satisfied: certifi>=2017.4.17 in /usr/local/lib/python3.8/dist-packages (from requests[socks]->gdown) (2022.9.24)\n",
            "Requirement already satisfied: PySocks!=1.5.7,>=1.5.6 in /usr/local/lib/python3.8/dist-packages (from requests[socks]->gdown) (1.7.1)\n",
            "Installing collected packages: gdown\n",
            "  Attempting uninstall: gdown\n",
            "    Found existing installation: gdown 4.4.0\n",
            "    Uninstalling gdown-4.4.0:\n",
            "      Successfully uninstalled gdown-4.4.0\n",
            "Successfully installed gdown-4.5.4\n"
          ]
        }
      ]
    },
    {
      "cell_type": "code",
      "source": [
        "# Clone VisRec Tutorial repository\n",
        "!git clone https://github.com/ialab-puc/VisualRecSys-Tutorial-IUI2021.git\n",
        "\n",
        "%cd /content/VisualRecSys-Tutorial-IUI2021/"
      ],
      "metadata": {
        "id": "P2vUFslU6AAV",
        "outputId": "c8c3154d-ab3f-4faf-c97d-15eb84be7798",
        "colab": {
          "base_uri": "https://localhost:8080/"
        }
      },
      "execution_count": null,
      "outputs": [
        {
          "output_type": "stream",
          "name": "stdout",
          "text": [
            "Cloning into 'VisualRecSys-Tutorial-IUI2021'...\n",
            "remote: Enumerating objects: 479, done.\u001b[K\n",
            "remote: Counting objects: 100% (137/137), done.\u001b[K\n",
            "remote: Compressing objects: 100% (64/64), done.\u001b[K\n",
            "remote: Total 479 (delta 99), reused 90 (delta 71), pack-reused 342\u001b[K\n",
            "Receiving objects: 100% (479/479), 10.31 MiB | 24.33 MiB/s, done.\n",
            "Resolving deltas: 100% (255/255), done.\n",
            "/content/VisualRecSys-Tutorial-IUI2021\n"
          ]
        }
      ]
    },
    {
      "cell_type": "code",
      "execution_count": null,
      "metadata": {
        "id": "AxkhWFyj5yTY"
      },
      "outputs": [],
      "source": [
        "import os\n",
        "\n",
        "import numpy as np\n",
        "import torch\n",
        "import torchvision\n",
        "from torch.utils.data import DataLoader\n",
        "from torchvision import transforms\n",
        "from tqdm.auto import tqdm\n",
        "\n",
        "from datasets.utils import PreprocessingDataset\n",
        "from models.utils import get_model_by_name\n",
        "from utils.environment import modified_environ"
      ]
    },
    {
      "cell_type": "code",
      "source": [
        "from google.colab import drive\n",
        "drive.mount('/content/drive')"
      ],
      "metadata": {
        "id": "bHAgS3np8SZl",
        "outputId": "f44d65ce-01cc-4c5e-cf6c-bdc098d47bbb",
        "colab": {
          "base_uri": "https://localhost:8080/"
        }
      },
      "execution_count": null,
      "outputs": [
        {
          "output_type": "stream",
          "name": "stdout",
          "text": [
            "Mounted at /content/drive\n"
          ]
        }
      ]
    },
    {
      "cell_type": "markdown",
      "metadata": {
        "id": "IV6EXbV75yTb"
      },
      "source": [
        "# Create image embeddings"
      ]
    },
    {
      "cell_type": "code",
      "execution_count": null,
      "metadata": {
        "id": "BhMvbhtV5yTc"
      },
      "outputs": [],
      "source": [
        "# Dataset\n",
        "DATASET = \"UGallery\"\n",
        "assert DATASET in [\"UGallery\", \"Wikimedia\"]"
      ]
    },
    {
      "cell_type": "code",
      "execution_count": null,
      "metadata": {
        "id": "0G0tCmeC5yTd"
      },
      "outputs": [],
      "source": [
        "# Parameters\n",
        "BATCH_SIZE, NUM_WORKERS = 8, 4\n",
        "IMAGES_EXT = [\"*.gif\", \"*.jpg\", \"*.jpeg\", \"*.png\", \"*.webp\"]\n",
        "USE_GPU = True\n",
        "\n",
        "# Model\n",
        "MODEL = \"resnet50\"\n",
        "LAYER = \"\" # if not defined the last layer, before the classification, output will be extracted\n",
        "assert MODEL in [\"alexnet\", \"vgg16\", \"resnet50\"]\n",
        "\n",
        "# Images path\n",
        "IMAGES_DIR = None\n",
        "if DATASET == \"Wikimedia\":\n",
        "    IMAGES_DIR = os.path.join(\"/\", \"mnt\", \"data2\", \"wikimedia\", \"imagenes_tarea\")\n",
        "elif DATASET == \"UGallery\":\n",
        "    IMAGES_DIR = '/content/drive/MyDrive/RecSysCuratorNet/images'\n"
      ]
    },
    {
      "cell_type": "code",
      "source": [],
      "metadata": {
        "id": "7Z7sF8Jl9TqT"
      },
      "execution_count": null,
      "outputs": []
    },
    {
      "cell_type": "code",
      "execution_count": null,
      "metadata": {
        "id": "0BtHC8_e5yTd"
      },
      "outputs": [],
      "source": [
        "# Paths (output)\n",
        "LAYERED_OUTPUT = f\"-{LAYER}\" if LAYER else \"\"\n",
        "OUTPUT_EMBEDDING_PATH = os.path.join(\"data\", DATASET, f\"embedding-{MODEL}{LAYERED_OUTPUT}.npy\")\n"
      ]
    },
    {
      "cell_type": "code",
      "execution_count": null,
      "metadata": {
        "id": "7B1YmLpw5yTe"
      },
      "outputs": [],
      "source": [
        "import PIL\n",
        "from PIL import ImageFile\n",
        "\n",
        "\n",
        "# Needed for some images in the Wikimedia dataset\n",
        "PIL.Image.MAX_IMAGE_PIXELS = 3_000_000_000\n",
        "# Some images are \"broken\" in Wikimedia dataset\n",
        "ImageFile.LOAD_TRUNCATED_IMAGES = True\n"
      ]
    },
    {
      "cell_type": "code",
      "source": [
        "IMAGES_DIR"
      ],
      "metadata": {
        "id": "uymReL-f6OA-",
        "outputId": "e711a70e-9e26-46d2-b05a-61b0ab7a512f",
        "colab": {
          "base_uri": "https://localhost:8080/",
          "height": 35
        }
      },
      "execution_count": null,
      "outputs": [
        {
          "output_type": "execute_result",
          "data": {
            "text/plain": [
              "'/content/drive/MyDrive/RecSysCuratorNet/images'"
            ],
            "application/vnd.google.colaboratory.intrinsic+json": {
              "type": "string"
            }
          },
          "metadata": {},
          "execution_count": 9
        }
      ]
    },
    {
      "cell_type": "code",
      "execution_count": null,
      "metadata": {
        "id": "zcyp3Cd85yTe",
        "outputId": "e5c11577-89c4-4713-ff09-58b230c39c8f",
        "colab": {
          "base_uri": "https://localhost:8080/",
          "height": 448,
          "referenced_widgets": [
            "ae32452569f04f6b9cbf8bcf1ce36065",
            "b843ecc695254d009c9e7f06508a2957",
            "96a7b5aa1027412983636e671f8a2613",
            "ac3488130b9a4572ab344a4399466054",
            "718cf78e688c4627afdf30df8bd89d0a",
            "c85a3cd7a1864ee2bb51e45a1435dcdd",
            "d0ec0227d02e443396da6c9eceea2611",
            "43e587c21771437491ac00a44c0e92f1",
            "daf677ad877845b884328df2ed56c305",
            "c61a40ce35bb4d6195594deb77bcd925",
            "d6f4d959ed154071ae0645333861d19f",
            "3568b01b4b8e43138c9dc1464559f483",
            "a7ca12ce3c914f1fb81bb9c1e3d5144d",
            "7a71a18be5b149d8a7d38ace7b66acc1",
            "a0901a926fa5481e9cfac31efb1b976a",
            "9b3659862c42411088823a48b579e2f0",
            "4627167650224914a0e28d8ff0b5aee8",
            "d770454067094a02889f893c5e4b96dc",
            "d8dbea0e5a3c47828a01a91b285b173d",
            "61830dbdcb26479c815e9e307d98f20b",
            "760d1097b8ae47c6998cef7701070a4a",
            "83bf603d6d01402385640c271e331f58"
          ]
        }
      },
      "outputs": [
        {
          "output_type": "stream",
          "name": "stdout",
          "text": [
            "\n",
            "Creating device...\n",
            "\n",
            "Notice: Not using GPU - Cuda available (False) does not match USE_GPU (True)\n",
            "\n",
            "Downloading model...\n",
            "Model: resnet50 (pretrained on imagenet)\n"
          ]
        },
        {
          "output_type": "stream",
          "name": "stderr",
          "text": [
            "/usr/local/lib/python3.8/dist-packages/torchvision/models/_utils.py:208: UserWarning: The parameter 'pretrained' is deprecated since 0.13 and will be removed in 0.15, please use 'weights' instead.\n",
            "  warnings.warn(\n",
            "/usr/local/lib/python3.8/dist-packages/torchvision/models/_utils.py:223: UserWarning: Arguments other than a weight enum or `None` for 'weights' are deprecated since 0.13 and will be removed in 0.15. The current behavior is equivalent to passing `weights=ResNet50_Weights.IMAGENET1K_V1`. You can also use `weights=ResNet50_Weights.DEFAULT` to get the most up-to-date weights.\n",
            "  warnings.warn(msg)\n",
            "Downloading: \"https://download.pytorch.org/models/resnet50-0676ba61.pth\" to ./hub/checkpoints/resnet50-0676ba61.pth\n"
          ]
        },
        {
          "output_type": "display_data",
          "data": {
            "text/plain": [
              "  0%|          | 0.00/97.8M [00:00<?, ?B/s]"
            ],
            "application/vnd.jupyter.widget-view+json": {
              "version_major": 2,
              "version_minor": 0,
              "model_id": "ae32452569f04f6b9cbf8bcf1ce36065"
            }
          },
          "metadata": {}
        },
        {
          "output_type": "stream",
          "name": "stdout",
          "text": [
            "\n",
            "Setting up transforms and dataset...\n"
          ]
        },
        {
          "output_type": "stream",
          "name": "stderr",
          "text": [
            "/usr/local/lib/python3.8/dist-packages/torch/utils/data/dataloader.py:563: UserWarning: This DataLoader will create 4 worker processes in total. Our suggested max number of worker in current system is 2, which is smaller than what this DataLoader is going to create. Please be aware that excessive worker creation might get DataLoader running slow or even freeze, lower the worker number to avoid potential slowness/freeze if necessary.\n",
            "  warnings.warn(_create_warning_msg(\n"
          ]
        },
        {
          "output_type": "stream",
          "name": "stdout",
          "text": [
            ">> Images dataset: 13297\n",
            ">> Embedding dimension size: 2048\n",
            "\n",
            "Feature extraction...\n"
          ]
        },
        {
          "output_type": "display_data",
          "data": {
            "text/plain": [
              "Feature extraction:   0%|          | 0/1663 [00:00<?, ?it/s]"
            ],
            "application/vnd.jupyter.widget-view+json": {
              "version_major": 2,
              "version_minor": 0,
              "model_id": "3568b01b4b8e43138c9dc1464559f483"
            }
          },
          "metadata": {}
        }
      ],
      "source": [
        "%%time\n",
        "# Setting up torch device (useful if GPU available)\n",
        "print(\"\\nCreating device...\")\n",
        "device = torch.device(\"cuda:0\" if torch.cuda.is_available() and USE_GPU else \"cpu\")\n",
        "if torch.cuda.is_available() != USE_GPU:\n",
        "    print((f\"\\nNotice: Not using GPU - \"\n",
        "           f\"Cuda available ({torch.cuda.is_available()}) \"\n",
        "           f\"does not match USE_GPU ({USE_GPU})\"\n",
        "    ))\n",
        "\n",
        "# Downloading models for feature extraction\n",
        "print(\"\\nDownloading model...\")\n",
        "with modified_environ(TORCH_HOME=\".\"):\n",
        "    print(f\"Model: {MODEL} (pretrained on imagenet)\")\n",
        "    model = get_model_by_name(MODEL, output_layer=LAYER).eval().to(device)\n",
        "\n",
        "# Setting up transforms and dataset\n",
        "print(\"\\nSetting up transforms and dataset...\")\n",
        "images_transforms = transforms.Compose([\n",
        "    transforms.Resize(256),\n",
        "    transforms.CenterCrop(224),\n",
        "    transforms.ToTensor(),\n",
        "    transforms.Normalize(mean=[0.485, 0.456, 0.406], std=[0.229, 0.224, 0.225])\n",
        "])\n",
        "image_dataset = PreprocessingDataset(\n",
        "    IMAGES_DIR,\n",
        "    extensions=IMAGES_EXT,\n",
        "    transform=images_transforms,\n",
        ")\n",
        "image_dataloader = DataLoader(image_dataset, batch_size=BATCH_SIZE, shuffle=False, num_workers=NUM_WORKERS, pin_memory=True)\n",
        "print(f\">> Images dataset: {len(image_dataset)}\")\n",
        "\n",
        "# Calculate embedding dimension size\n",
        "dummy_input = torch.ones(1, *image_dataset[0][\"image\"].size()).to(device)\n",
        "dummy_output = model(dummy_input)\n",
        "emb_dim = dummy_output.shape[1:] if LAYER else dummy_output.size(1)\n",
        "print(f\">> Embedding dimension size: {emb_dim}\")\n",
        "\n",
        "# Feature extraction phase\n",
        "print(f\"\\nFeature extraction...\")\n",
        "output_ids = np.empty(len(image_dataset), dtype=object)\n",
        "if LAYER:\n",
        "    output_embedding = torch.zeros((len(image_dataset), *emb_dim), dtype=torch.float32, device=device)\n",
        "else:\n",
        "    output_embedding = torch.zeros((len(image_dataset), emb_dim), dtype=torch.float32, device=device)\n",
        "\n",
        "with torch.no_grad():\n",
        "    for batch_i, sample in enumerate(tqdm(image_dataloader, desc=\"Feature extraction\")):\n",
        "        item_image = sample[\"image\"].to(device)\n",
        "        item_idx = sample[\"idx\"]\n",
        "        output_ids[[*item_idx]] = sample[\"id\"]\n",
        "        output_embedding[item_idx] = model(item_image).squeeze(-1).squeeze(-1)\n",
        "\n",
        "output_embedding = output_embedding.cpu().numpy()\n",
        "\n",
        "# Fill output embedding\n",
        "embedding = np.ndarray(\n",
        "    shape=(len(image_dataset), 2),\n",
        "    dtype=object,\n",
        ")\n",
        "for i in range(len(image_dataset)):\n",
        "    embedding[i] = np.asarray([output_ids[i], output_embedding[i]])\n",
        "print(f\">> Embedding shape: {embedding.shape}\")\n",
        "\n",
        "# Save embedding to file\n",
        "print(f\"\\nSaving embedding to file... ({OUTPUT_EMBEDDING_PATH})\")\n",
        "np.save(OUTPUT_EMBEDDING_PATH, embedding, allow_pickle=True)\n",
        "\n",
        "# Free some memory\n",
        "if USE_GPU:\n",
        "    print(f\"\\nCleaning GPU cache...\")\n",
        "    model = model.to(torch.device(\"cpu\"))\n",
        "    torch.cuda.empty_cache()\n",
        "\n",
        "# Finished\n",
        "print(\"\\nDone\")\n"
      ]
    },
    {
      "cell_type": "code",
      "source": [
        "a=np.load('/content/drive/MyDrive/RecSysCuratorNet/resnet_embeddings.npy',allow_pickle=True)"
      ],
      "metadata": {
        "id": "2pJE3SLeFEL2"
      },
      "execution_count": null,
      "outputs": []
    },
    {
      "cell_type": "code",
      "source": [
        "emb_nw=dict(embedding)"
      ],
      "metadata": {
        "id": "7WVku4TOFZet"
      },
      "execution_count": null,
      "outputs": []
    },
    {
      "cell_type": "code",
      "source": [
        "emb_of=dict(a)"
      ],
      "metadata": {
        "id": "4S7iB9Z4FqtX"
      },
      "execution_count": null,
      "outputs": []
    },
    {
      "cell_type": "code",
      "source": [
        "import numpy as np"
      ],
      "metadata": {
        "id": "9geXSrpNN3wf"
      },
      "execution_count": null,
      "outputs": []
    },
    {
      "cell_type": "code",
      "source": [
        "X_new=[]\n",
        "X_of=[]\n",
        "\n",
        "for l1 in tqdm(emb_nw.items()):\n",
        "  key1=l1[0]\n",
        "  value1=l1[1]\n",
        "  j=9999999\n",
        "  for l2 in emb_of.items():\n",
        "    key2=l2[0]\n",
        "    value2=l2[1]\n",
        "    c=np.linalg.norm(value1-value2)\n",
        "    c=np.round(c,decimals=0)\n",
        "    if c<j:\n",
        "      j=c\n",
        "      k1=key1\n",
        "      k2=key2\n",
        "  X_new.append(k1)\n",
        "  X_of.append(k2)\n"
      ],
      "metadata": {
        "id": "6_v00hsjLgkw"
      },
      "execution_count": null,
      "outputs": []
    },
    {
      "cell_type": "code",
      "source": [
        "trans_dict=dict(X_new,X_of)\n"
      ],
      "metadata": {
        "id": "c_kYXmK1bjUx"
      },
      "execution_count": null,
      "outputs": []
    },
    {
      "cell_type": "code",
      "source": [
        "trans_dict.dump('ids_converted.npy')"
      ],
      "metadata": {
        "id": "oVSWhHPMcO5H"
      },
      "execution_count": null,
      "outputs": []
    }
  ],
  "metadata": {
    "kernelspec": {
      "display_name": "Python 3",
      "language": "python",
      "name": "python3"
    },
    "language_info": {
      "codemirror_mode": {
        "name": "ipython",
        "version": 3
      },
      "file_extension": ".py",
      "mimetype": "text/x-python",
      "name": "python",
      "nbconvert_exporter": "python",
      "pygments_lexer": "ipython3",
      "version": "3.7.10"
    },
    "colab": {
      "provenance": []
    },
    "accelerator": "GPU",
    "gpuClass": "standard",
    "widgets": {
      "application/vnd.jupyter.widget-state+json": {
        "ae32452569f04f6b9cbf8bcf1ce36065": {
          "model_module": "@jupyter-widgets/controls",
          "model_name": "HBoxModel",
          "model_module_version": "1.5.0",
          "state": {
            "_dom_classes": [],
            "_model_module": "@jupyter-widgets/controls",
            "_model_module_version": "1.5.0",
            "_model_name": "HBoxModel",
            "_view_count": null,
            "_view_module": "@jupyter-widgets/controls",
            "_view_module_version": "1.5.0",
            "_view_name": "HBoxView",
            "box_style": "",
            "children": [
              "IPY_MODEL_b843ecc695254d009c9e7f06508a2957",
              "IPY_MODEL_96a7b5aa1027412983636e671f8a2613",
              "IPY_MODEL_ac3488130b9a4572ab344a4399466054"
            ],
            "layout": "IPY_MODEL_718cf78e688c4627afdf30df8bd89d0a"
          }
        },
        "b843ecc695254d009c9e7f06508a2957": {
          "model_module": "@jupyter-widgets/controls",
          "model_name": "HTMLModel",
          "model_module_version": "1.5.0",
          "state": {
            "_dom_classes": [],
            "_model_module": "@jupyter-widgets/controls",
            "_model_module_version": "1.5.0",
            "_model_name": "HTMLModel",
            "_view_count": null,
            "_view_module": "@jupyter-widgets/controls",
            "_view_module_version": "1.5.0",
            "_view_name": "HTMLView",
            "description": "",
            "description_tooltip": null,
            "layout": "IPY_MODEL_c85a3cd7a1864ee2bb51e45a1435dcdd",
            "placeholder": "​",
            "style": "IPY_MODEL_d0ec0227d02e443396da6c9eceea2611",
            "value": "100%"
          }
        },
        "96a7b5aa1027412983636e671f8a2613": {
          "model_module": "@jupyter-widgets/controls",
          "model_name": "FloatProgressModel",
          "model_module_version": "1.5.0",
          "state": {
            "_dom_classes": [],
            "_model_module": "@jupyter-widgets/controls",
            "_model_module_version": "1.5.0",
            "_model_name": "FloatProgressModel",
            "_view_count": null,
            "_view_module": "@jupyter-widgets/controls",
            "_view_module_version": "1.5.0",
            "_view_name": "ProgressView",
            "bar_style": "success",
            "description": "",
            "description_tooltip": null,
            "layout": "IPY_MODEL_43e587c21771437491ac00a44c0e92f1",
            "max": 102530333,
            "min": 0,
            "orientation": "horizontal",
            "style": "IPY_MODEL_daf677ad877845b884328df2ed56c305",
            "value": 102530333
          }
        },
        "ac3488130b9a4572ab344a4399466054": {
          "model_module": "@jupyter-widgets/controls",
          "model_name": "HTMLModel",
          "model_module_version": "1.5.0",
          "state": {
            "_dom_classes": [],
            "_model_module": "@jupyter-widgets/controls",
            "_model_module_version": "1.5.0",
            "_model_name": "HTMLModel",
            "_view_count": null,
            "_view_module": "@jupyter-widgets/controls",
            "_view_module_version": "1.5.0",
            "_view_name": "HTMLView",
            "description": "",
            "description_tooltip": null,
            "layout": "IPY_MODEL_c61a40ce35bb4d6195594deb77bcd925",
            "placeholder": "​",
            "style": "IPY_MODEL_d6f4d959ed154071ae0645333861d19f",
            "value": " 97.8M/97.8M [00:00&lt;00:00, 126MB/s]"
          }
        },
        "718cf78e688c4627afdf30df8bd89d0a": {
          "model_module": "@jupyter-widgets/base",
          "model_name": "LayoutModel",
          "model_module_version": "1.2.0",
          "state": {
            "_model_module": "@jupyter-widgets/base",
            "_model_module_version": "1.2.0",
            "_model_name": "LayoutModel",
            "_view_count": null,
            "_view_module": "@jupyter-widgets/base",
            "_view_module_version": "1.2.0",
            "_view_name": "LayoutView",
            "align_content": null,
            "align_items": null,
            "align_self": null,
            "border": null,
            "bottom": null,
            "display": null,
            "flex": null,
            "flex_flow": null,
            "grid_area": null,
            "grid_auto_columns": null,
            "grid_auto_flow": null,
            "grid_auto_rows": null,
            "grid_column": null,
            "grid_gap": null,
            "grid_row": null,
            "grid_template_areas": null,
            "grid_template_columns": null,
            "grid_template_rows": null,
            "height": null,
            "justify_content": null,
            "justify_items": null,
            "left": null,
            "margin": null,
            "max_height": null,
            "max_width": null,
            "min_height": null,
            "min_width": null,
            "object_fit": null,
            "object_position": null,
            "order": null,
            "overflow": null,
            "overflow_x": null,
            "overflow_y": null,
            "padding": null,
            "right": null,
            "top": null,
            "visibility": null,
            "width": null
          }
        },
        "c85a3cd7a1864ee2bb51e45a1435dcdd": {
          "model_module": "@jupyter-widgets/base",
          "model_name": "LayoutModel",
          "model_module_version": "1.2.0",
          "state": {
            "_model_module": "@jupyter-widgets/base",
            "_model_module_version": "1.2.0",
            "_model_name": "LayoutModel",
            "_view_count": null,
            "_view_module": "@jupyter-widgets/base",
            "_view_module_version": "1.2.0",
            "_view_name": "LayoutView",
            "align_content": null,
            "align_items": null,
            "align_self": null,
            "border": null,
            "bottom": null,
            "display": null,
            "flex": null,
            "flex_flow": null,
            "grid_area": null,
            "grid_auto_columns": null,
            "grid_auto_flow": null,
            "grid_auto_rows": null,
            "grid_column": null,
            "grid_gap": null,
            "grid_row": null,
            "grid_template_areas": null,
            "grid_template_columns": null,
            "grid_template_rows": null,
            "height": null,
            "justify_content": null,
            "justify_items": null,
            "left": null,
            "margin": null,
            "max_height": null,
            "max_width": null,
            "min_height": null,
            "min_width": null,
            "object_fit": null,
            "object_position": null,
            "order": null,
            "overflow": null,
            "overflow_x": null,
            "overflow_y": null,
            "padding": null,
            "right": null,
            "top": null,
            "visibility": null,
            "width": null
          }
        },
        "d0ec0227d02e443396da6c9eceea2611": {
          "model_module": "@jupyter-widgets/controls",
          "model_name": "DescriptionStyleModel",
          "model_module_version": "1.5.0",
          "state": {
            "_model_module": "@jupyter-widgets/controls",
            "_model_module_version": "1.5.0",
            "_model_name": "DescriptionStyleModel",
            "_view_count": null,
            "_view_module": "@jupyter-widgets/base",
            "_view_module_version": "1.2.0",
            "_view_name": "StyleView",
            "description_width": ""
          }
        },
        "43e587c21771437491ac00a44c0e92f1": {
          "model_module": "@jupyter-widgets/base",
          "model_name": "LayoutModel",
          "model_module_version": "1.2.0",
          "state": {
            "_model_module": "@jupyter-widgets/base",
            "_model_module_version": "1.2.0",
            "_model_name": "LayoutModel",
            "_view_count": null,
            "_view_module": "@jupyter-widgets/base",
            "_view_module_version": "1.2.0",
            "_view_name": "LayoutView",
            "align_content": null,
            "align_items": null,
            "align_self": null,
            "border": null,
            "bottom": null,
            "display": null,
            "flex": null,
            "flex_flow": null,
            "grid_area": null,
            "grid_auto_columns": null,
            "grid_auto_flow": null,
            "grid_auto_rows": null,
            "grid_column": null,
            "grid_gap": null,
            "grid_row": null,
            "grid_template_areas": null,
            "grid_template_columns": null,
            "grid_template_rows": null,
            "height": null,
            "justify_content": null,
            "justify_items": null,
            "left": null,
            "margin": null,
            "max_height": null,
            "max_width": null,
            "min_height": null,
            "min_width": null,
            "object_fit": null,
            "object_position": null,
            "order": null,
            "overflow": null,
            "overflow_x": null,
            "overflow_y": null,
            "padding": null,
            "right": null,
            "top": null,
            "visibility": null,
            "width": null
          }
        },
        "daf677ad877845b884328df2ed56c305": {
          "model_module": "@jupyter-widgets/controls",
          "model_name": "ProgressStyleModel",
          "model_module_version": "1.5.0",
          "state": {
            "_model_module": "@jupyter-widgets/controls",
            "_model_module_version": "1.5.0",
            "_model_name": "ProgressStyleModel",
            "_view_count": null,
            "_view_module": "@jupyter-widgets/base",
            "_view_module_version": "1.2.0",
            "_view_name": "StyleView",
            "bar_color": null,
            "description_width": ""
          }
        },
        "c61a40ce35bb4d6195594deb77bcd925": {
          "model_module": "@jupyter-widgets/base",
          "model_name": "LayoutModel",
          "model_module_version": "1.2.0",
          "state": {
            "_model_module": "@jupyter-widgets/base",
            "_model_module_version": "1.2.0",
            "_model_name": "LayoutModel",
            "_view_count": null,
            "_view_module": "@jupyter-widgets/base",
            "_view_module_version": "1.2.0",
            "_view_name": "LayoutView",
            "align_content": null,
            "align_items": null,
            "align_self": null,
            "border": null,
            "bottom": null,
            "display": null,
            "flex": null,
            "flex_flow": null,
            "grid_area": null,
            "grid_auto_columns": null,
            "grid_auto_flow": null,
            "grid_auto_rows": null,
            "grid_column": null,
            "grid_gap": null,
            "grid_row": null,
            "grid_template_areas": null,
            "grid_template_columns": null,
            "grid_template_rows": null,
            "height": null,
            "justify_content": null,
            "justify_items": null,
            "left": null,
            "margin": null,
            "max_height": null,
            "max_width": null,
            "min_height": null,
            "min_width": null,
            "object_fit": null,
            "object_position": null,
            "order": null,
            "overflow": null,
            "overflow_x": null,
            "overflow_y": null,
            "padding": null,
            "right": null,
            "top": null,
            "visibility": null,
            "width": null
          }
        },
        "d6f4d959ed154071ae0645333861d19f": {
          "model_module": "@jupyter-widgets/controls",
          "model_name": "DescriptionStyleModel",
          "model_module_version": "1.5.0",
          "state": {
            "_model_module": "@jupyter-widgets/controls",
            "_model_module_version": "1.5.0",
            "_model_name": "DescriptionStyleModel",
            "_view_count": null,
            "_view_module": "@jupyter-widgets/base",
            "_view_module_version": "1.2.0",
            "_view_name": "StyleView",
            "description_width": ""
          }
        },
        "3568b01b4b8e43138c9dc1464559f483": {
          "model_module": "@jupyter-widgets/controls",
          "model_name": "HBoxModel",
          "model_module_version": "1.5.0",
          "state": {
            "_dom_classes": [],
            "_model_module": "@jupyter-widgets/controls",
            "_model_module_version": "1.5.0",
            "_model_name": "HBoxModel",
            "_view_count": null,
            "_view_module": "@jupyter-widgets/controls",
            "_view_module_version": "1.5.0",
            "_view_name": "HBoxView",
            "box_style": "",
            "children": [
              "IPY_MODEL_a7ca12ce3c914f1fb81bb9c1e3d5144d",
              "IPY_MODEL_7a71a18be5b149d8a7d38ace7b66acc1",
              "IPY_MODEL_a0901a926fa5481e9cfac31efb1b976a"
            ],
            "layout": "IPY_MODEL_9b3659862c42411088823a48b579e2f0"
          }
        },
        "a7ca12ce3c914f1fb81bb9c1e3d5144d": {
          "model_module": "@jupyter-widgets/controls",
          "model_name": "HTMLModel",
          "model_module_version": "1.5.0",
          "state": {
            "_dom_classes": [],
            "_model_module": "@jupyter-widgets/controls",
            "_model_module_version": "1.5.0",
            "_model_name": "HTMLModel",
            "_view_count": null,
            "_view_module": "@jupyter-widgets/controls",
            "_view_module_version": "1.5.0",
            "_view_name": "HTMLView",
            "description": "",
            "description_tooltip": null,
            "layout": "IPY_MODEL_4627167650224914a0e28d8ff0b5aee8",
            "placeholder": "​",
            "style": "IPY_MODEL_d770454067094a02889f893c5e4b96dc",
            "value": "Feature extraction:   1%"
          }
        },
        "7a71a18be5b149d8a7d38ace7b66acc1": {
          "model_module": "@jupyter-widgets/controls",
          "model_name": "FloatProgressModel",
          "model_module_version": "1.5.0",
          "state": {
            "_dom_classes": [],
            "_model_module": "@jupyter-widgets/controls",
            "_model_module_version": "1.5.0",
            "_model_name": "FloatProgressModel",
            "_view_count": null,
            "_view_module": "@jupyter-widgets/controls",
            "_view_module_version": "1.5.0",
            "_view_name": "ProgressView",
            "bar_style": "",
            "description": "",
            "description_tooltip": null,
            "layout": "IPY_MODEL_d8dbea0e5a3c47828a01a91b285b173d",
            "max": 1663,
            "min": 0,
            "orientation": "horizontal",
            "style": "IPY_MODEL_61830dbdcb26479c815e9e307d98f20b",
            "value": 17
          }
        },
        "a0901a926fa5481e9cfac31efb1b976a": {
          "model_module": "@jupyter-widgets/controls",
          "model_name": "HTMLModel",
          "model_module_version": "1.5.0",
          "state": {
            "_dom_classes": [],
            "_model_module": "@jupyter-widgets/controls",
            "_model_module_version": "1.5.0",
            "_model_name": "HTMLModel",
            "_view_count": null,
            "_view_module": "@jupyter-widgets/controls",
            "_view_module_version": "1.5.0",
            "_view_name": "HTMLView",
            "description": "",
            "description_tooltip": null,
            "layout": "IPY_MODEL_760d1097b8ae47c6998cef7701070a4a",
            "placeholder": "​",
            "style": "IPY_MODEL_83bf603d6d01402385640c271e331f58",
            "value": " 17/1663 [00:36&lt;57:45,  2.11s/it]"
          }
        },
        "9b3659862c42411088823a48b579e2f0": {
          "model_module": "@jupyter-widgets/base",
          "model_name": "LayoutModel",
          "model_module_version": "1.2.0",
          "state": {
            "_model_module": "@jupyter-widgets/base",
            "_model_module_version": "1.2.0",
            "_model_name": "LayoutModel",
            "_view_count": null,
            "_view_module": "@jupyter-widgets/base",
            "_view_module_version": "1.2.0",
            "_view_name": "LayoutView",
            "align_content": null,
            "align_items": null,
            "align_self": null,
            "border": null,
            "bottom": null,
            "display": null,
            "flex": null,
            "flex_flow": null,
            "grid_area": null,
            "grid_auto_columns": null,
            "grid_auto_flow": null,
            "grid_auto_rows": null,
            "grid_column": null,
            "grid_gap": null,
            "grid_row": null,
            "grid_template_areas": null,
            "grid_template_columns": null,
            "grid_template_rows": null,
            "height": null,
            "justify_content": null,
            "justify_items": null,
            "left": null,
            "margin": null,
            "max_height": null,
            "max_width": null,
            "min_height": null,
            "min_width": null,
            "object_fit": null,
            "object_position": null,
            "order": null,
            "overflow": null,
            "overflow_x": null,
            "overflow_y": null,
            "padding": null,
            "right": null,
            "top": null,
            "visibility": null,
            "width": null
          }
        },
        "4627167650224914a0e28d8ff0b5aee8": {
          "model_module": "@jupyter-widgets/base",
          "model_name": "LayoutModel",
          "model_module_version": "1.2.0",
          "state": {
            "_model_module": "@jupyter-widgets/base",
            "_model_module_version": "1.2.0",
            "_model_name": "LayoutModel",
            "_view_count": null,
            "_view_module": "@jupyter-widgets/base",
            "_view_module_version": "1.2.0",
            "_view_name": "LayoutView",
            "align_content": null,
            "align_items": null,
            "align_self": null,
            "border": null,
            "bottom": null,
            "display": null,
            "flex": null,
            "flex_flow": null,
            "grid_area": null,
            "grid_auto_columns": null,
            "grid_auto_flow": null,
            "grid_auto_rows": null,
            "grid_column": null,
            "grid_gap": null,
            "grid_row": null,
            "grid_template_areas": null,
            "grid_template_columns": null,
            "grid_template_rows": null,
            "height": null,
            "justify_content": null,
            "justify_items": null,
            "left": null,
            "margin": null,
            "max_height": null,
            "max_width": null,
            "min_height": null,
            "min_width": null,
            "object_fit": null,
            "object_position": null,
            "order": null,
            "overflow": null,
            "overflow_x": null,
            "overflow_y": null,
            "padding": null,
            "right": null,
            "top": null,
            "visibility": null,
            "width": null
          }
        },
        "d770454067094a02889f893c5e4b96dc": {
          "model_module": "@jupyter-widgets/controls",
          "model_name": "DescriptionStyleModel",
          "model_module_version": "1.5.0",
          "state": {
            "_model_module": "@jupyter-widgets/controls",
            "_model_module_version": "1.5.0",
            "_model_name": "DescriptionStyleModel",
            "_view_count": null,
            "_view_module": "@jupyter-widgets/base",
            "_view_module_version": "1.2.0",
            "_view_name": "StyleView",
            "description_width": ""
          }
        },
        "d8dbea0e5a3c47828a01a91b285b173d": {
          "model_module": "@jupyter-widgets/base",
          "model_name": "LayoutModel",
          "model_module_version": "1.2.0",
          "state": {
            "_model_module": "@jupyter-widgets/base",
            "_model_module_version": "1.2.0",
            "_model_name": "LayoutModel",
            "_view_count": null,
            "_view_module": "@jupyter-widgets/base",
            "_view_module_version": "1.2.0",
            "_view_name": "LayoutView",
            "align_content": null,
            "align_items": null,
            "align_self": null,
            "border": null,
            "bottom": null,
            "display": null,
            "flex": null,
            "flex_flow": null,
            "grid_area": null,
            "grid_auto_columns": null,
            "grid_auto_flow": null,
            "grid_auto_rows": null,
            "grid_column": null,
            "grid_gap": null,
            "grid_row": null,
            "grid_template_areas": null,
            "grid_template_columns": null,
            "grid_template_rows": null,
            "height": null,
            "justify_content": null,
            "justify_items": null,
            "left": null,
            "margin": null,
            "max_height": null,
            "max_width": null,
            "min_height": null,
            "min_width": null,
            "object_fit": null,
            "object_position": null,
            "order": null,
            "overflow": null,
            "overflow_x": null,
            "overflow_y": null,
            "padding": null,
            "right": null,
            "top": null,
            "visibility": null,
            "width": null
          }
        },
        "61830dbdcb26479c815e9e307d98f20b": {
          "model_module": "@jupyter-widgets/controls",
          "model_name": "ProgressStyleModel",
          "model_module_version": "1.5.0",
          "state": {
            "_model_module": "@jupyter-widgets/controls",
            "_model_module_version": "1.5.0",
            "_model_name": "ProgressStyleModel",
            "_view_count": null,
            "_view_module": "@jupyter-widgets/base",
            "_view_module_version": "1.2.0",
            "_view_name": "StyleView",
            "bar_color": null,
            "description_width": ""
          }
        },
        "760d1097b8ae47c6998cef7701070a4a": {
          "model_module": "@jupyter-widgets/base",
          "model_name": "LayoutModel",
          "model_module_version": "1.2.0",
          "state": {
            "_model_module": "@jupyter-widgets/base",
            "_model_module_version": "1.2.0",
            "_model_name": "LayoutModel",
            "_view_count": null,
            "_view_module": "@jupyter-widgets/base",
            "_view_module_version": "1.2.0",
            "_view_name": "LayoutView",
            "align_content": null,
            "align_items": null,
            "align_self": null,
            "border": null,
            "bottom": null,
            "display": null,
            "flex": null,
            "flex_flow": null,
            "grid_area": null,
            "grid_auto_columns": null,
            "grid_auto_flow": null,
            "grid_auto_rows": null,
            "grid_column": null,
            "grid_gap": null,
            "grid_row": null,
            "grid_template_areas": null,
            "grid_template_columns": null,
            "grid_template_rows": null,
            "height": null,
            "justify_content": null,
            "justify_items": null,
            "left": null,
            "margin": null,
            "max_height": null,
            "max_width": null,
            "min_height": null,
            "min_width": null,
            "object_fit": null,
            "object_position": null,
            "order": null,
            "overflow": null,
            "overflow_x": null,
            "overflow_y": null,
            "padding": null,
            "right": null,
            "top": null,
            "visibility": null,
            "width": null
          }
        },
        "83bf603d6d01402385640c271e331f58": {
          "model_module": "@jupyter-widgets/controls",
          "model_name": "DescriptionStyleModel",
          "model_module_version": "1.5.0",
          "state": {
            "_model_module": "@jupyter-widgets/controls",
            "_model_module_version": "1.5.0",
            "_model_name": "DescriptionStyleModel",
            "_view_count": null,
            "_view_module": "@jupyter-widgets/base",
            "_view_module_version": "1.2.0",
            "_view_name": "StyleView",
            "description_width": ""
          }
        }
      }
    }
  },
  "nbformat": 4,
  "nbformat_minor": 0
}
